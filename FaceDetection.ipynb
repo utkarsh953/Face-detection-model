{
 "cells": [
  {
   "cell_type": "code",
   "execution_count": 1,
   "id": "aff8af83-aa61-4c0d-84a0-b90ca1c0a181",
   "metadata": {},
   "outputs": [],
   "source": [
    "import os\n",
    "import time\n",
    "import uuid\n",
    "import cv2"
   ]
  },
  {
   "cell_type": "code",
   "execution_count": 2,
   "id": "2b3851c9-189a-4aed-8383-78b9beded925",
   "metadata": {},
   "outputs": [],
   "source": [
    "IMAGES_PATH  = os.path.join('data','images')\n",
    "number_images  = 10"
   ]
  },
  {
   "cell_type": "code",
   "execution_count": 14,
   "id": "28b74439-d5de-48c2-b1d2-75c2dea5b2cf",
   "metadata": {},
   "outputs": [],
   "source": [
    "# As of now, captured img from phone as there seems some issues with opencv and windows\n",
    "# below code opens camera and saves images captured in data/image folder\n",
    "# cap = cv2.VideoCapture(1)\n",
    "# if cap.isOpened():\n",
    "#     for imgnum in range(number_images):\n",
    "#         print(\"Collecting image {}\".format(imgnum))\n",
    "#         ret, frame = cap.read()\n",
    "#         imgname = os.path.join(IMAGES_PATH, f'{str(uuid.uuid1())}.jpg')\n",
    "#         cv2.imwrite(imgname,frame)\n",
    "#         cv2.imshow('frame',frame)\n",
    "#         time.sleep(5)\n",
    "#         if cv2.waitKey(1) & 0xFF == ord('q'):\n",
    "#             break\n",
    "#         cap.release()\n",
    "#         cv2.destroyAllWindows()\n"
   ]
  },
  {
   "cell_type": "code",
   "execution_count": 3,
   "id": "053f2286-ef1b-49dc-a66e-f82f9fd7ddd1",
   "metadata": {},
   "outputs": [
    {
     "name": "stderr",
     "output_type": "stream",
     "text": [
      "2024-08-15 18:23:14,766 [INFO   ] __init__:get_config:67- Loading config file from: C:\\Users\\ugupt\\.labelmerc\n"
     ]
    }
   ],
   "source": [
    "!labelme"
   ]
  },
  {
   "cell_type": "markdown",
   "id": "26280b70-8141-4f98-a95c-63f9a9ad3801",
   "metadata": {},
   "source": [
    "<h2>Review Dataset and Build image Loading Function</h2>"
   ]
  },
  {
   "cell_type": "code",
   "execution_count": 4,
   "id": "1820d56f-118e-41cd-a9c8-d910b698bf6b",
   "metadata": {},
   "outputs": [],
   "source": [
    "import tensorflow as tf\n",
    "import cv2\n",
    "import json\n",
    "import numpy as np\n",
    "import matplotlib.pyplot as plt\n"
   ]
  },
  {
   "cell_type": "code",
   "execution_count": 6,
   "id": "80fc4c4b-002b-4afb-9cf7-3a162c8c4ed2",
   "metadata": {},
   "outputs": [
    {
     "data": {
      "text/plain": [
       "False"
      ]
     },
     "execution_count": 6,
     "metadata": {},
     "output_type": "execute_result"
    }
   ],
   "source": [
    "# test gpu\n",
    "gpus = tf.config.list_physical_devices('GPU')\n",
    "for gpu in gpus:\n",
    "    tf.config.set_memory_growth(gpu, True)\n",
    "\n",
    "tf.test.is_gpu_available()"
   ]
  },
  {
   "cell_type": "code",
   "execution_count": 1,
   "id": "783d5f48-a3ba-4082-99aa-ce19211891c2",
   "metadata": {},
   "outputs": [],
   "source": [
    "#images = tf.data.Dataset.list_files('data\\\\images\\\\*jpg',shuffle=True)"
   ]
  },
  {
   "cell_type": "code",
   "execution_count": 22,
   "id": "5dd90262-aaa7-42b7-bf8a-3c85d5ceb7ba",
   "metadata": {},
   "outputs": [
    {
     "data": {
      "text/plain": [
       "b'data\\\\images\\\\IMG_20240612_202734.jpg'"
      ]
     },
     "execution_count": 22,
     "metadata": {},
     "output_type": "execute_result"
    }
   ],
   "source": [
    "images.as_numpy_iterator().next()"
   ]
  },
  {
   "cell_type": "code",
   "execution_count": 6,
   "id": "c12b6436-c858-42b4-86ce-190f26053227",
   "metadata": {},
   "outputs": [],
   "source": [
    "def load_image(x):\n",
    "    byte_img  = tf.io.read_file(x)\n",
    "    image = tf.io.decode_jpeg(byte_img)\n",
    "    return image"
   ]
  },
  {
   "cell_type": "code",
   "execution_count": 24,
   "id": "fca6c51a-1f38-41ab-ba74-374047ec0b06",
   "metadata": {},
   "outputs": [],
   "source": [
    "images = images.map(load_image)"
   ]
  },
  {
   "cell_type": "code",
   "execution_count": 25,
   "id": "3a849918-65b7-41c5-a9bc-b3e6c2553b42",
   "metadata": {},
   "outputs": [
    {
     "data": {
      "text/plain": [
       "array([[[216, 194, 171],\n",
       "        [215, 193, 170],\n",
       "        [216, 194, 171],\n",
       "        ...,\n",
       "        [206, 200, 186],\n",
       "        [205, 199, 185],\n",
       "        [205, 199, 185]],\n",
       "\n",
       "       [[216, 194, 171],\n",
       "        [216, 194, 171],\n",
       "        [216, 194, 171],\n",
       "        ...,\n",
       "        [206, 200, 186],\n",
       "        [206, 200, 186],\n",
       "        [206, 200, 186]],\n",
       "\n",
       "       [[216, 194, 171],\n",
       "        [216, 194, 171],\n",
       "        [216, 194, 171],\n",
       "        ...,\n",
       "        [207, 201, 187],\n",
       "        [206, 200, 186],\n",
       "        [207, 201, 187]],\n",
       "\n",
       "       ...,\n",
       "\n",
       "       [[ 72,  70,  55],\n",
       "        [ 72,  70,  55],\n",
       "        [ 76,  74,  59],\n",
       "        ...,\n",
       "        [210, 210, 200],\n",
       "        [210, 210, 200],\n",
       "        [210, 210, 200]],\n",
       "\n",
       "       [[ 75,  73,  58],\n",
       "        [ 76,  74,  59],\n",
       "        [ 77,  75,  60],\n",
       "        ...,\n",
       "        [210, 210, 200],\n",
       "        [208, 208, 198],\n",
       "        [208, 208, 198]],\n",
       "\n",
       "       [[ 77,  75,  60],\n",
       "        [ 78,  76,  61],\n",
       "        [ 78,  76,  61],\n",
       "        ...,\n",
       "        [210, 210, 200],\n",
       "        [207, 207, 197],\n",
       "        [207, 207, 197]]], dtype=uint8)"
      ]
     },
     "execution_count": 25,
     "metadata": {},
     "output_type": "execute_result"
    }
   ],
   "source": [
    "images.as_numpy_iterator().next()"
   ]
  },
  {
   "cell_type": "markdown",
   "id": "81259bee-05b8-4275-ab2c-0dcd8a970264",
   "metadata": {},
   "source": [
    "<h4>View raw images with matplotlib</h4>"
   ]
  },
  {
   "cell_type": "code",
   "execution_count": 26,
   "id": "99aa0a5a-baa8-4f85-b32b-c4554de99da0",
   "metadata": {},
   "outputs": [],
   "source": [
    "image_generator = images.batch(4).as_numpy_iterator()"
   ]
  },
  {
   "cell_type": "code",
   "execution_count": 27,
   "id": "2327d319-eaa9-471f-8643-3f870a0943e5",
   "metadata": {},
   "outputs": [],
   "source": [
    "plot_images = image_generator.next()"
   ]
  },
  {
   "cell_type": "code",
   "execution_count": 6,
   "id": "e8d1682d-94f3-4c29-b126-a16af08a9c5a",
   "metadata": {},
   "outputs": [],
   "source": [
    "# fig, ax = plt.subplots(ncols=4,figsize=(20,30))\n",
    "# for idx,image in enumerate(plot_images):\n",
    "#     pass\n",
    "# #     ax[idx].imshow(image)\n",
    "# # plt.show()"
   ]
  },
  {
   "cell_type": "markdown",
   "id": "5f0f7a5b-ff06-4887-a5ff-d1c25d57e8ac",
   "metadata": {},
   "source": [
    "<h2>3. Partition Unaugmented Data</h2>"
   ]
  },
  {
   "cell_type": "code",
   "execution_count": 31,
   "id": "00066f83-0620-48e4-b23f-a5584ea872a1",
   "metadata": {},
   "outputs": [],
   "source": [
    "# manual partition\n",
    "# 60-> train, 15 ->test, 15-> val\n"
   ]
  },
  {
   "cell_type": "markdown",
   "id": "84b9817a-5526-48d7-8426-d0451a08c195",
   "metadata": {},
   "source": [
    "<h4>Move the Matching Labels</h4>\n",
    "<h6>Due to this the labels gets moved to respective 3 folders created</h6>"
   ]
  },
  {
   "cell_type": "code",
   "execution_count": 32,
   "id": "4e24a198-5653-47cb-be44-855da30ac905",
   "metadata": {},
   "outputs": [],
   "source": [
    "for folder in ['train','test','val']:\n",
    "    for file in os.listdir(os.path.join('data', folder, 'images')):\n",
    "        \n",
    "        filename = file.split('.')[0]+'.json'\n",
    "        existing_filepath = os.path.join('data','labels', filename)\n",
    "        if os.path.exists(existing_filepath): \n",
    "            new_filepath = os.path.join('data',folder,'labels',filename)\n",
    "            os.replace(existing_filepath, new_filepath) "
   ]
  },
  {
   "cell_type": "markdown",
   "id": "482b358b-5258-44e4-a89c-6aba8d2556ba",
   "metadata": {},
   "source": [
    "<h2>4. Apply Image Augmentation on Images and Labels using Albumentations</h2>"
   ]
  },
  {
   "cell_type": "markdown",
   "id": "4f8a4c6b-1353-4738-ab54-10ce5d368900",
   "metadata": {},
   "source": [
    "<h4>4.A Setup Albumentations Transform Pipeline</h4>"
   ]
  },
  {
   "cell_type": "code",
   "execution_count": 13,
   "id": "04f1dd74-46f4-467b-bb23-398d59563c38",
   "metadata": {},
   "outputs": [
    {
     "name": "stderr",
     "output_type": "stream",
     "text": [
      "INFO:albumentations.check_version:A new version of Albumentations is available: 1.4.14 (you have 1.4.13). Upgrade using: pip install -U albumentations. To disable automatic update checks, set the environment variable NO_ALBUMENTATIONS_UPDATE to 1.\n"
     ]
    }
   ],
   "source": [
    "import albumentations as alb"
   ]
  },
  {
   "cell_type": "code",
   "execution_count": 14,
   "id": "ebb0ed5d-1291-4c5c-adf8-318237cc782c",
   "metadata": {},
   "outputs": [],
   "source": [
    "augmentor = alb.Compose([alb.RandomCrop(width=2000, height=2000), \n",
    "                         alb.HorizontalFlip(p=0.5), \n",
    "                         alb.RandomBrightnessContrast(p=0.2),\n",
    "                         alb.RandomGamma(p=0.2), \n",
    "                         alb.RGBShift(p=0.2), \n",
    "                         alb.VerticalFlip(p=0.5)], \n",
    "                       bbox_params=alb.BboxParams(format='albumentations', \n",
    "                                                  label_fields=['class_labels']))"
   ]
  },
  {
   "cell_type": "markdown",
   "id": "3a8a4842-00f0-4102-8e2f-30f0ed8750f9",
   "metadata": {},
   "source": [
    "<h4>4.B Load a Test Image and Annotation with OpenCV and JSON</h4>"
   ]
  },
  {
   "cell_type": "code",
   "execution_count": 15,
   "id": "f12772d3-7bbb-4e93-89d6-16305fe2c3dc",
   "metadata": {},
   "outputs": [],
   "source": [
    "img = cv2.imread(os.path.join('data','train','images','IMG_20240612_202746.jpg'))"
   ]
  },
  {
   "cell_type": "code",
   "execution_count": 16,
   "id": "73b6650c-6650-4e16-ba9d-8564ca4632cb",
   "metadata": {},
   "outputs": [],
   "source": [
    "with open(os.path.join('data','train','labels','IMG_20240612_202746.json'),'r') as f:\n",
    "    label = json.load(f)"
   ]
  },
  {
   "cell_type": "code",
   "execution_count": 17,
   "id": "9ff49767-1304-46cf-a06d-da4af8a6f359",
   "metadata": {},
   "outputs": [
    {
     "data": {
      "text/plain": [
       "[[577.333333333333, 811.6666666666665],\n",
       " [2243.9999999999995, 2586.6666666666665]]"
      ]
     },
     "execution_count": 17,
     "metadata": {},
     "output_type": "execute_result"
    }
   ],
   "source": [
    "label['shapes'][0]['points']"
   ]
  },
  {
   "cell_type": "markdown",
   "id": "52da0057-b23b-4f5c-bcb4-c6dd7704847c",
   "metadata": {},
   "source": [
    "<h4>4.C Extract Coordinates and Rescale to Match Image Resolution</h4>"
   ]
  },
  {
   "cell_type": "code",
   "execution_count": 18,
   "id": "bec26b43-60dd-4a51-b47d-cecd29ae6be2",
   "metadata": {},
   "outputs": [],
   "source": [
    "coords = [0,0,0,0]\n",
    "coords[0] = label['shapes'][0]['points'][0][0]\n",
    "coords[1] = label['shapes'][0]['points'][0][1]\n",
    "coords[2] = label['shapes'][0]['points'][1][0]\n",
    "coords[3] = label['shapes'][0]['points'][1][1]"
   ]
  },
  {
   "cell_type": "code",
   "execution_count": 19,
   "id": "7e072a1b-ccc0-4a62-b3f3-f75ff831fc51",
   "metadata": {},
   "outputs": [
    {
     "data": {
      "text/plain": [
       "[577.333333333333, 811.6666666666665, 2243.9999999999995, 2586.6666666666665]"
      ]
     },
     "execution_count": 19,
     "metadata": {},
     "output_type": "execute_result"
    }
   ],
   "source": [
    "coords"
   ]
  },
  {
   "cell_type": "code",
   "execution_count": 20,
   "id": "ac10ad00-24f6-494b-aa0d-88d187493403",
   "metadata": {},
   "outputs": [],
   "source": [
    "# transform images for pascal_voc to albumentations format\n",
    "# https://albumentations.ai/docs/getting_started/bounding_boxes_augmentation/\n",
    "IMAGE_DIMS = [3488,4640,3488,4640]\n",
    "coords = list(np.divide(coords, IMAGE_DIMS))"
   ]
  },
  {
   "cell_type": "code",
   "execution_count": 21,
   "id": "291081b1-fdf8-491c-94e0-9d0fbf34b700",
   "metadata": {},
   "outputs": [
    {
     "data": {
      "text/plain": [
       "[0.1655198776758409, 0.1749281609195402, 0.6433486238532109, 0.557471264367816]"
      ]
     },
     "execution_count": 21,
     "metadata": {},
     "output_type": "execute_result"
    }
   ],
   "source": [
    "coords\n"
   ]
  },
  {
   "cell_type": "markdown",
   "id": "5e5ad2c1-e0b9-4884-a55d-bbdc79976be1",
   "metadata": {},
   "source": [
    "<h4>4.D Apply Augmentations and View Results</h4>"
   ]
  },
  {
   "cell_type": "code",
   "execution_count": 22,
   "id": "2b420dce-3e3a-43a8-aa6e-1d7cb84b9803",
   "metadata": {},
   "outputs": [],
   "source": [
    "augmented = augmentor(image=img, bboxes=[coords], class_labels=['face'])"
   ]
  },
  {
   "cell_type": "code",
   "execution_count": 23,
   "id": "ea7a8064-ba2f-4a74-970b-910cfef96639",
   "metadata": {},
   "outputs": [
    {
     "data": {
      "text/plain": [
       "[(0.5205000000000002, 0.7301666666666667, 1.0, 1.0)]"
      ]
     },
     "execution_count": 23,
     "metadata": {},
     "output_type": "execute_result"
    }
   ],
   "source": [
    "augmented['bboxes']"
   ]
  },
  {
   "cell_type": "code",
   "execution_count": 24,
   "id": "bb8df696-70a8-4326-8986-48cc732806d3",
   "metadata": {},
   "outputs": [
    {
     "data": {
      "text/plain": [
       "array([[[ 11,  44, 127],\n",
       "        [ 17,  49, 131],\n",
       "        [ 20,  52, 134],\n",
       "        ...,\n",
       "        [ 36,  47,  62],\n",
       "        [ 34,  45,  60],\n",
       "        [ 36,  47,  62]],\n",
       "\n",
       "       [[ 15,  48, 131],\n",
       "        [ 19,  51, 133],\n",
       "        [ 20,  52, 134],\n",
       "        ...,\n",
       "        [ 36,  47,  62],\n",
       "        [ 38,  49,  64],\n",
       "        [ 43,  54,  69]],\n",
       "\n",
       "       [[ 21,  54, 137],\n",
       "        [ 22,  55, 137],\n",
       "        [ 21,  53, 135],\n",
       "        ...,\n",
       "        [ 34,  45,  60],\n",
       "        [ 37,  48,  63],\n",
       "        [ 43,  54,  69]],\n",
       "\n",
       "       ...,\n",
       "\n",
       "       [[ 89,  95, 103],\n",
       "        [ 93,  99, 107],\n",
       "        [ 96, 102, 110],\n",
       "        ...,\n",
       "        [109, 159, 204],\n",
       "        [109, 159, 204],\n",
       "        [255,   0,   0]],\n",
       "\n",
       "       [[ 90,  96, 104],\n",
       "        [ 91,  97, 105],\n",
       "        [ 91,  97, 105],\n",
       "        ...,\n",
       "        [109, 159, 204],\n",
       "        [108, 158, 203],\n",
       "        [255,   0,   0]],\n",
       "\n",
       "       [[ 86,  95, 102],\n",
       "        [ 84,  93, 100],\n",
       "        [ 81,  90,  97],\n",
       "        ...,\n",
       "        [255,   0,   0],\n",
       "        [255,   0,   0],\n",
       "        [255,   0,   0]]], dtype=uint8)"
      ]
     },
     "execution_count": 24,
     "metadata": {},
     "output_type": "execute_result"
    }
   ],
   "source": [
    "cv2.rectangle(augmented['image'], \n",
    "              tuple(np.multiply(augmented['bboxes'][0][:2], [2000,2000]).astype(int)),\n",
    "              tuple(np.multiply(augmented['bboxes'][0][2:], [2000,2000]).astype(int)), \n",
    "                    (255,0,0), 2)\n",
    "\n",
    "#plt.imshow(augmented['image'])"
   ]
  },
  {
   "cell_type": "markdown",
   "id": "4c49e2b6-143a-4371-97f2-b0fee5c5330d",
   "metadata": {},
   "source": [
    "<h2>5. Build and Run Augmentation Pipeline</h2>"
   ]
  },
  {
   "cell_type": "markdown",
   "id": "ac2b1d0e-c4d9-4e2c-ace4-fe2925a08f3d",
   "metadata": {},
   "source": [
    "<h4>5.A Run Augmentation Pipeline</h4>"
   ]
  },
  {
   "cell_type": "code",
   "execution_count": 2,
   "id": "1b2cd8e3-5c7b-42eb-94dc-d7b78b05405b",
   "metadata": {},
   "outputs": [],
   "source": [
    "#Here we will be storing augmented images in aug_data folder and doing annotations of these images\n",
    "for partition in ['train','test','val']: \n",
    "    for image in os.listdir(os.path.join('data', partition, 'images')):\n",
    "        img = cv2.imread(os.path.join('data', partition, 'images', image))\n",
    "\n",
    "        coords = [0,0,0.00001,0.00001]\n",
    "        label_path = os.path.join('data', partition, 'labels', f'{image.split(\".\")[0]}.json')\n",
    "        if os.path.exists(label_path):\n",
    "            with open(label_path, 'r') as f:\n",
    "                label = json.load(f)\n",
    "\n",
    "            coords[0] = label['shapes'][0]['points'][0][0]\n",
    "            coords[1] = label['shapes'][0]['points'][0][1]\n",
    "            coords[2] = label['shapes'][0]['points'][1][0]\n",
    "            coords[3] = label['shapes'][0]['points'][1][1]\n",
    "            coords = list(np.divide(coords, IMAGE_DIMS))\n",
    "\n",
    "        try: \n",
    "            for x in range(60):\n",
    "                augmented = augmentor(image=img, bboxes=[coords], class_labels=['face'])\n",
    "                cv2.imwrite(os.path.join('aug_data', partition, 'images', f'{image.split(\".\")[0]}.{x}.jpg'), augmented['image'])\n",
    "\n",
    "                annotation = {}\n",
    "                annotation['image'] = image\n",
    "\n",
    "                if os.path.exists(label_path):\n",
    "                    if len(augmented['bboxes']) == 0: \n",
    "                        annotation['bbox'] = [0,0,0,0]\n",
    "                        annotation['class'] = 0 \n",
    "                    else: \n",
    "                        annotation['bbox'] = augmented['bboxes'][0]\n",
    "                        annotation['class'] = 1\n",
    "                else: \n",
    "                    annotation['bbox'] = [0,0,0,0]\n",
    "                    annotation['class'] = 0 \n",
    "\n",
    "\n",
    "                with open(os.path.join('aug_data', partition, 'labels', f'{image.split(\".\")[0]}.{x}.json'), 'w') as f:\n",
    "                    json.dump(annotation, f)\n",
    "\n",
    "        except Exception as e:\n",
    "            print(e)"
   ]
  },
  {
   "cell_type": "markdown",
   "id": "87be84d8-e0c1-4473-8ffd-1d2e3714cfa0",
   "metadata": {},
   "source": [
    "<h4>5.B Load Augmented Images to Tensorflow Dataset</h4>"
   ]
  },
  {
   "cell_type": "code",
   "execution_count": 7,
   "id": "5a1a5398-1505-4564-aa49-2ff7829055f6",
   "metadata": {},
   "outputs": [],
   "source": [
    "train_images = tf.data.Dataset.list_files(\"aug_data\\\\train\\\\images\\\\*.jpg\",shuffle=False)\n",
    "train_images = train_images.map(load_image)\n",
    "# we are compressing more the images to make it of less size so our neural network can be more efficient\n",
    "train_images = train_images.map(lambda x: tf.image.resize(x,(120,120)))\n",
    "train_images = train_images.map(lambda x: x/255)"
   ]
  },
  {
   "cell_type": "code",
   "execution_count": 8,
   "id": "bec4b7ed-3aef-4e3c-8387-64a448a98a36",
   "metadata": {},
   "outputs": [],
   "source": [
    "test_images = tf.data.Dataset.list_files('aug_data\\\\test\\\\images\\\\*.jpg', shuffle=False)\n",
    "test_images = test_images.map(load_image)\n",
    "test_images = test_images.map(lambda x: tf.image.resize(x, (120,120)))\n",
    "test_images = test_images.map(lambda x: x/255)"
   ]
  },
  {
   "cell_type": "code",
   "execution_count": 9,
   "id": "e6a6a382-ecd9-4b23-8908-49ec52b0f1ef",
   "metadata": {},
   "outputs": [],
   "source": [
    "val_images = tf.data.Dataset.list_files('aug_data\\\\val\\\\images\\\\*.jpg', shuffle=False)\n",
    "val_images = val_images.map(load_image)\n",
    "val_images = val_images.map(lambda x: tf.image.resize(x, (120,120)))\n",
    "val_images = val_images.map(lambda x: x/255)"
   ]
  },
  {
   "cell_type": "code",
   "execution_count": 10,
   "id": "b8af5ed7-63c2-4678-9334-c60493a939fe",
   "metadata": {},
   "outputs": [
    {
     "data": {
      "text/plain": [
       "array([[[0.11132897, 0.10348584, 0.14662309],\n",
       "        [0.10915032, 0.10130718, 0.14444444],\n",
       "        [0.12167756, 0.11383442, 0.15697168],\n",
       "        ...,\n",
       "        [0.14324592, 0.14869201, 0.19575083],\n",
       "        [0.09477108, 0.10261422, 0.14967304],\n",
       "        [0.0761442 , 0.08398734, 0.13104616]],\n",
       "\n",
       "       [[0.10882353, 0.10098039, 0.14411765],\n",
       "        [0.09901961, 0.09117647, 0.13431373],\n",
       "        [0.1359477 , 0.12810457, 0.17124182],\n",
       "        ...,\n",
       "        [0.14967257, 0.14182943, 0.19280982],\n",
       "        [0.124511  , 0.124511  , 0.17156982],\n",
       "        [0.11307205, 0.12222207, 0.16862746]],\n",
       "\n",
       "       [[0.10958605, 0.10174291, 0.14488016],\n",
       "        [0.10130714, 0.093464  , 0.13660125],\n",
       "        [0.13932459, 0.13148145, 0.1746187 ],\n",
       "        ...,\n",
       "        [0.14041483, 0.14041483, 0.18747365],\n",
       "        [0.11699488, 0.11699488, 0.16405371],\n",
       "        [0.13834426, 0.1461874 , 0.19324622]],\n",
       "\n",
       "       ...,\n",
       "\n",
       "       [[0.8144877 , 0.79487985, 0.78311515],\n",
       "        [0.8277779 , 0.81209165, 0.80032694],\n",
       "        [0.8105662 , 0.7988015 , 0.77919364],\n",
       "        ...,\n",
       "        [0.8279959 , 0.8005449 , 0.7613292 ],\n",
       "        [0.87058824, 0.8392157 , 0.79607844],\n",
       "        [0.8437907 , 0.81241816, 0.7627446 ]],\n",
       "\n",
       "       [[0.80947673, 0.7898689 , 0.7781042 ],\n",
       "        [0.827451  , 0.8117647 , 0.8       ],\n",
       "        [0.76535946, 0.7614379 , 0.74183005],\n",
       "        ...,\n",
       "        [0.8287581 , 0.80130714, 0.76209146],\n",
       "        [0.88333285, 0.8519603 , 0.80882305],\n",
       "        [0.84803903, 0.8166665 , 0.77352923]],\n",
       "\n",
       "       [[0.81013083, 0.79444456, 0.78267986],\n",
       "        [0.8156863 , 0.8       , 0.7882353 ],\n",
       "        [0.8077339 , 0.79586023, 0.77647024],\n",
       "        ...,\n",
       "        [0.8240744 , 0.7966234 , 0.75740767],\n",
       "        [0.8486896 , 0.81731707, 0.7741798 ],\n",
       "        [0.8464054 , 0.81503284, 0.7718956 ]]], dtype=float32)"
      ]
     },
     "execution_count": 10,
     "metadata": {},
     "output_type": "execute_result"
    }
   ],
   "source": [
    "train_images.as_numpy_iterator().next()"
   ]
  },
  {
   "cell_type": "markdown",
   "id": "a86349a0-e6a5-49c5-b2ea-839e4021a481",
   "metadata": {},
   "source": [
    "<h2>6. Prepare Labels</h2>"
   ]
  },
  {
   "cell_type": "markdown",
   "id": "7f49c02a-0b03-4113-a936-18c1daf89827",
   "metadata": {},
   "source": [
    "<h4>6.A Build Label Loading Function</h4>"
   ]
  },
  {
   "cell_type": "code",
   "execution_count": 11,
   "id": "799b995d-9db2-4123-ac65-9f75b43dcc6c",
   "metadata": {},
   "outputs": [],
   "source": [
    "# Function returns the bbox and class in the labels json if a json file path is passed to it\n",
    "def load_labels(label_path):\n",
    "    with open(label_path.numpy(), 'r', encoding = \"utf-8\") as f:\n",
    "        label = json.load(f)\n",
    "        \n",
    "    return [label['class']], label['bbox']"
   ]
  },
  {
   "cell_type": "markdown",
   "id": "7d3fe788-c1af-4412-b16c-cb812d413eff",
   "metadata": {},
   "source": [
    "<h4>6.B Load Labels to Tensorflow Dataset</h4>"
   ]
  },
  {
   "cell_type": "code",
   "execution_count": 12,
   "id": "6b7c984d-5d32-41af-b1a5-cbbb4a368dd3",
   "metadata": {},
   "outputs": [],
   "source": [
    "train_labels = tf.data.Dataset.list_files('aug_data\\\\train\\\\labels\\\\*.json', shuffle=False)\n",
    "train_labels = train_labels.map(lambda x: tf.py_function(load_labels,[x],[tf.uint8, tf.float16]))"
   ]
  },
  {
   "cell_type": "code",
   "execution_count": 13,
   "id": "d3984f08-8cbf-49aa-b315-cd7f2c45eec9",
   "metadata": {},
   "outputs": [],
   "source": [
    "test_labels = tf.data.Dataset.list_files('aug_data\\\\test\\\\labels\\\\*.json', shuffle=False)\n",
    "test_labels = test_labels.map(lambda x: tf.py_function(load_labels, [x], [tf.uint8, tf.float16]))"
   ]
  },
  {
   "cell_type": "code",
   "execution_count": 14,
   "id": "f7bcbfa8-6d54-4696-a04a-d008fc03cd0b",
   "metadata": {},
   "outputs": [],
   "source": [
    "val_labels = tf.data.Dataset.list_files('aug_data\\\\val\\\\labels\\\\*.json', shuffle=False)\n",
    "val_labels = val_labels.map(lambda x: tf.py_function(load_labels, [x], [tf.uint8, tf.float16]))"
   ]
  },
  {
   "cell_type": "code",
   "execution_count": 15,
   "id": "845c49a2-39ee-46c2-ab33-27f1a2049a94",
   "metadata": {},
   "outputs": [
    {
     "data": {
      "text/plain": [
       "(array([1], dtype=uint8),\n",
       " array([0.2866, 0.582 , 0.92  , 1.    ], dtype=float16))"
      ]
     },
     "execution_count": 15,
     "metadata": {},
     "output_type": "execute_result"
    }
   ],
   "source": [
    "train_labels.as_numpy_iterator().next()"
   ]
  },
  {
   "cell_type": "markdown",
   "id": "2a427b92-c3a7-4288-975f-b725ac195574",
   "metadata": {},
   "source": [
    "<h2>7. Combine Label and Image Samples</h2>"
   ]
  },
  {
   "cell_type": "markdown",
   "id": "091f763e-aba1-47fa-a55b-a76e772b0a37",
   "metadata": {},
   "source": [
    "<h4>7A  Check Partition Lengths</h4>"
   ]
  },
  {
   "cell_type": "code",
   "execution_count": 16,
   "id": "100676e6-0a65-411c-9268-28b4af8a3a1b",
   "metadata": {},
   "outputs": [
    {
     "data": {
      "text/plain": [
       "(3600, 3600, 900, 900, 900, 900)"
      ]
     },
     "execution_count": 16,
     "metadata": {},
     "output_type": "execute_result"
    }
   ],
   "source": [
    "len(train_images), len(train_labels), len(test_images), len(test_labels), len(val_images), len(val_labels)"
   ]
  },
  {
   "cell_type": "markdown",
   "id": "c74d873e-7b3d-4782-b724-abc3458be4aa",
   "metadata": {},
   "source": [
    "<h4>7.B Create Final Datasets (Images/Labels)</h4>"
   ]
  },
  {
   "cell_type": "code",
   "execution_count": 17,
   "id": "a1f7eaa5-9dd8-4551-b66b-40366360dbda",
   "metadata": {},
   "outputs": [],
   "source": [
    "train = tf.data.Dataset.zip((train_images, train_labels))\n",
    "train = train.shuffle(5000)\n",
    "train = train.batch(8)\n",
    "train = train.prefetch(4)"
   ]
  },
  {
   "cell_type": "code",
   "execution_count": 18,
   "id": "1d99a1b3-8ca9-492e-91bc-716ec89e6d4a",
   "metadata": {},
   "outputs": [],
   "source": [
    "test = tf.data.Dataset.zip((test_images, test_labels))\n",
    "test = test.shuffle(1300)\n",
    "test = test.batch(8)\n",
    "test = test.prefetch(4)"
   ]
  },
  {
   "cell_type": "code",
   "execution_count": 19,
   "id": "e1e22d6b-00f0-4d36-a973-6f5d270dc147",
   "metadata": {},
   "outputs": [],
   "source": [
    "val = tf.data.Dataset.zip((val_images, val_labels))\n",
    "val = val.shuffle(1000)\n",
    "val = val.batch(8)\n",
    "val = val.prefetch(4)"
   ]
  },
  {
   "cell_type": "code",
   "execution_count": 20,
   "id": "dfc00071-377f-46f1-9c1c-5d2a575b3659",
   "metadata": {},
   "outputs": [
    {
     "data": {
      "text/plain": [
       "(8, 120, 120, 3)"
      ]
     },
     "execution_count": 20,
     "metadata": {},
     "output_type": "execute_result"
    }
   ],
   "source": [
    "train.as_numpy_iterator().next()[0].shape"
   ]
  },
  {
   "cell_type": "code",
   "execution_count": 112,
   "id": "7e36a4b4-c1cc-4f20-ae76-284fef9f9d6b",
   "metadata": {},
   "outputs": [],
   "source": [
    "# 0th index corresponds to each batch\n",
    "# 8 is batch size, 120*120 is the dimension, 3 is rgb channel"
   ]
  },
  {
   "cell_type": "code",
   "execution_count": 21,
   "id": "ef2b3496-4bc9-4e7e-b983-ebae2a1edf97",
   "metadata": {},
   "outputs": [
    {
     "data": {
      "text/plain": [
       "(array([[1],\n",
       "        [0],\n",
       "        [0],\n",
       "        [0],\n",
       "        [1],\n",
       "        [1],\n",
       "        [0],\n",
       "        [1]], dtype=uint8),\n",
       " array([[0.2578, 0.    , 1.    , 1.    ],\n",
       "        [0.    , 0.    , 0.    , 0.    ],\n",
       "        [0.    , 0.    , 0.    , 0.    ],\n",
       "        [0.    , 0.    , 0.    , 0.    ],\n",
       "        [0.    , 0.    , 0.6504, 0.8345],\n",
       "        [0.3308, 0.508 , 1.    , 1.    ],\n",
       "        [0.    , 0.    , 0.    , 0.    ],\n",
       "        [0.2035, 0.    , 1.    , 0.937 ]], dtype=float16))"
      ]
     },
     "execution_count": 21,
     "metadata": {},
     "output_type": "execute_result"
    }
   ],
   "source": [
    "train.as_numpy_iterator().next()[1]"
   ]
  },
  {
   "cell_type": "code",
   "execution_count": 115,
   "id": "c4844cd0-e8db-4a03-aa3a-f43494c8059d",
   "metadata": {},
   "outputs": [],
   "source": [
    "# 1st index is the class and bbox coordinates for each batch(8 images here)"
   ]
  },
  {
   "cell_type": "markdown",
   "id": "12c629f7-3468-4505-b4f7-81a804acf9c4",
   "metadata": {},
   "source": [
    "<h4>7.C View Images and Annotations</h4>"
   ]
  },
  {
   "cell_type": "code",
   "execution_count": 22,
   "id": "d944d348-ff02-46a6-b813-0b51336efae7",
   "metadata": {},
   "outputs": [],
   "source": [
    "data_samples = train.as_numpy_iterator()"
   ]
  },
  {
   "cell_type": "code",
   "execution_count": 23,
   "id": "17ec62c6-40c1-495b-a3df-b64135cfcd12",
   "metadata": {},
   "outputs": [],
   "source": [
    "res = data_samples.next()"
   ]
  },
  {
   "cell_type": "code",
   "execution_count": null,
   "id": "4df04d37-ddcd-4a2e-8fdd-a01421fe0afa",
   "metadata": {},
   "outputs": [],
   "source": []
  },
  {
   "cell_type": "code",
   "execution_count": 122,
   "id": "59a1591c-4f30-4545-934e-cd2acb6b6b30",
   "metadata": {},
   "outputs": [],
   "source": [
    "# Plot each batch of images\n",
    "# fig, ax = plt.subplots(ncols=4, figsize=(20,20))\n",
    "# for idx in range(4): \n",
    "#     sample_image = res[0][idx]\n",
    "#     sample_coords = res[1][1][idx]\n",
    "    \n",
    "#     cv2.rectangle(sample_image, \n",
    "#                   tuple(np.multiply(sample_coords[:2], [120,120]).astype(int)),\n",
    "#                   tuple(np.multiply(sample_coords[2:], [120,120]).astype(int)), \n",
    "#                         (255,0,0), 2)\n",
    "\n",
    "#     ax[idx].imshow(sample_image)\n",
    "\n"
   ]
  },
  {
   "cell_type": "markdown",
   "id": "eef8ea07-24d9-41df-ba16-b70152a8badd",
   "metadata": {},
   "source": [
    "<h2>8. Build Deep Learning using the Functional API</h2>"
   ]
  },
  {
   "cell_type": "markdown",
   "id": "cc77235a-7ed4-4afb-9b50-6514502f2f99",
   "metadata": {},
   "source": [
    "<h4>8.A Import Layers and Base Network</h4>"
   ]
  },
  {
   "cell_type": "code",
   "execution_count": 24,
   "id": "7211fabe-9862-4bd7-ac11-36fc4f91e8d0",
   "metadata": {},
   "outputs": [],
   "source": [
    "from tensorflow.keras.models import Model\n",
    "from tensorflow.keras.layers import Input, Conv2D, Dense, GlobalMaxPooling2D\n",
    "from tensorflow.keras.applications import VGG16"
   ]
  },
  {
   "cell_type": "code",
   "execution_count": 25,
   "id": "ca19baf1-79b0-49a0-94db-88d33329c3a1",
   "metadata": {},
   "outputs": [
    {
     "name": "stdout",
     "output_type": "stream",
     "text": [
      "Downloading data from https://storage.googleapis.com/tensorflow/keras-applications/vgg16/vgg16_weights_tf_dim_ordering_tf_kernels_notop.h5\n",
      "58889256/58889256 [==============================] - 28s 0us/step\n"
     ]
    }
   ],
   "source": [
    "# 8.B Download VGG16\n",
    "vgg = VGG16(include_top=False)"
   ]
  },
  {
   "cell_type": "code",
   "execution_count": 126,
   "id": "eba6bfb9-9768-4b09-b2cf-6a953d1c0139",
   "metadata": {},
   "outputs": [],
   "source": [
    "# we will be using vvg16 for building our neural network\n",
    "# vgg16 is used for image classfication model that uses CNN\n",
    "# we are doing include_top= False as we will be discarding the final layer of vgg16 and \n",
    "# instead create our own custom final layer as per the requirement\n",
    "# for this model, we have 2 outputs\n",
    "# 1 is the class  or 1-> so for this we make classification output with sigmoid activation function\n",
    "# 2nd is regression which maps to coordinates of bbox so for this also we use sigmoid activation function"
   ]
  },
  {
   "cell_type": "code",
   "execution_count": 26,
   "id": "706ff08a-072a-4339-b957-65cfae30245f",
   "metadata": {},
   "outputs": [
    {
     "name": "stdout",
     "output_type": "stream",
     "text": [
      "Model: \"vgg16\"\n",
      "_________________________________________________________________\n",
      " Layer (type)                Output Shape              Param #   \n",
      "=================================================================\n",
      " input_1 (InputLayer)        [(None, None, None, 3)]   0         \n",
      "                                                                 \n",
      " block1_conv1 (Conv2D)       (None, None, None, 64)    1792      \n",
      "                                                                 \n",
      " block1_conv2 (Conv2D)       (None, None, None, 64)    36928     \n",
      "                                                                 \n",
      " block1_pool (MaxPooling2D)  (None, None, None, 64)    0         \n",
      "                                                                 \n",
      " block2_conv1 (Conv2D)       (None, None, None, 128)   73856     \n",
      "                                                                 \n",
      " block2_conv2 (Conv2D)       (None, None, None, 128)   147584    \n",
      "                                                                 \n",
      " block2_pool (MaxPooling2D)  (None, None, None, 128)   0         \n",
      "                                                                 \n",
      " block3_conv1 (Conv2D)       (None, None, None, 256)   295168    \n",
      "                                                                 \n",
      " block3_conv2 (Conv2D)       (None, None, None, 256)   590080    \n",
      "                                                                 \n",
      " block3_conv3 (Conv2D)       (None, None, None, 256)   590080    \n",
      "                                                                 \n",
      " block3_pool (MaxPooling2D)  (None, None, None, 256)   0         \n",
      "                                                                 \n",
      " block4_conv1 (Conv2D)       (None, None, None, 512)   1180160   \n",
      "                                                                 \n",
      " block4_conv2 (Conv2D)       (None, None, None, 512)   2359808   \n",
      "                                                                 \n",
      " block4_conv3 (Conv2D)       (None, None, None, 512)   2359808   \n",
      "                                                                 \n",
      " block4_pool (MaxPooling2D)  (None, None, None, 512)   0         \n",
      "                                                                 \n",
      " block5_conv1 (Conv2D)       (None, None, None, 512)   2359808   \n",
      "                                                                 \n",
      " block5_conv2 (Conv2D)       (None, None, None, 512)   2359808   \n",
      "                                                                 \n",
      " block5_conv3 (Conv2D)       (None, None, None, 512)   2359808   \n",
      "                                                                 \n",
      " block5_pool (MaxPooling2D)  (None, None, None, 512)   0         \n",
      "                                                                 \n",
      "=================================================================\n",
      "Total params: 14,714,688\n",
      "Trainable params: 14,714,688\n",
      "Non-trainable params: 0\n",
      "_________________________________________________________________\n"
     ]
    }
   ],
   "source": [
    "vgg.summary()"
   ]
  },
  {
   "cell_type": "code",
   "execution_count": 27,
   "id": "94bb848b-4ac6-4ad8-ad94-9135560160de",
   "metadata": {},
   "outputs": [],
   "source": [
    "# 8.C Build instance of Network\n",
    "def build_model():\n",
    "    input_layer = Input(shape=(120,120,3))\n",
    "    #pass input layer to the vgg16 model\n",
    "    vgg = VGG16(include_top=False)(input_layer)\n",
    "    # Classification model\n",
    "    f1= GlobalMaxPooling2D()(vgg)\n",
    "    class1 = Dense(2048, activation='relu')(f1)\n",
    "    # class2 is the output layer for the classification model. We are passing 1 as there is one o/p(0 or 1 class)\n",
    "    class2 =Dense(1, activation='sigmoid')(class1)\n",
    "\n",
    "    # Regression model for Bounding box coordinates\n",
    "    f2 = GlobalMaxPooling2D()(vgg)\n",
    "    regress1 = Dense(2048,activation='relu')(f2)\n",
    "    # regress2 is the o/p layer for the Regression model. We are passing 4 here as there are 4 coordinates for bbox\n",
    "    regress2 = Dense(4, activation='sigmoid')(regress1)\n",
    "\n",
    "    # Combine both the layers\n",
    "    facetracker = Model(inputs = input_layer, outputs = [class2,regress2])\n",
    "    return facetracker"
   ]
  },
  {
   "cell_type": "markdown",
   "id": "69a117a8-3f4b-4a87-af1b-0b31b2e23f53",
   "metadata": {},
   "source": [
    "<h4>8.D Testing Neural Network</h4>"
   ]
  },
  {
   "cell_type": "code",
   "execution_count": 28,
   "id": "2b76550d-21f4-4726-a1eb-ed08cd956099",
   "metadata": {},
   "outputs": [],
   "source": [
    "facetracker = build_model()"
   ]
  },
  {
   "cell_type": "code",
   "execution_count": 29,
   "id": "fca404a7-2791-43e2-9c9e-7c8584506f0c",
   "metadata": {},
   "outputs": [
    {
     "name": "stdout",
     "output_type": "stream",
     "text": [
      "Model: \"model\"\n",
      "__________________________________________________________________________________________________\n",
      " Layer (type)                   Output Shape         Param #     Connected to                     \n",
      "==================================================================================================\n",
      " input_2 (InputLayer)           [(None, 120, 120, 3  0           []                               \n",
      "                                )]                                                                \n",
      "                                                                                                  \n",
      " vgg16 (Functional)             (None, None, None,   14714688    ['input_2[0][0]']                \n",
      "                                512)                                                              \n",
      "                                                                                                  \n",
      " global_max_pooling2d (GlobalMa  (None, 512)         0           ['vgg16[0][0]']                  \n",
      " xPooling2D)                                                                                      \n",
      "                                                                                                  \n",
      " global_max_pooling2d_1 (Global  (None, 512)         0           ['vgg16[0][0]']                  \n",
      " MaxPooling2D)                                                                                    \n",
      "                                                                                                  \n",
      " dense (Dense)                  (None, 2048)         1050624     ['global_max_pooling2d[0][0]']   \n",
      "                                                                                                  \n",
      " dense_2 (Dense)                (None, 2048)         1050624     ['global_max_pooling2d_1[0][0]'] \n",
      "                                                                                                  \n",
      " dense_1 (Dense)                (None, 1)            2049        ['dense[0][0]']                  \n",
      "                                                                                                  \n",
      " dense_3 (Dense)                (None, 4)            8196        ['dense_2[0][0]']                \n",
      "                                                                                                  \n",
      "==================================================================================================\n",
      "Total params: 16,826,181\n",
      "Trainable params: 16,826,181\n",
      "Non-trainable params: 0\n",
      "__________________________________________________________________________________________________\n"
     ]
    }
   ],
   "source": [
    "facetracker.summary()"
   ]
  },
  {
   "cell_type": "code",
   "execution_count": 30,
   "id": "cace611d-bd3e-4864-ab8b-c93e523cfd1a",
   "metadata": {},
   "outputs": [],
   "source": [
    "X,y = train.as_numpy_iterator().next()"
   ]
  },
  {
   "cell_type": "code",
   "execution_count": 31,
   "id": "52475629-84c0-44de-9dbc-5d1556646e5f",
   "metadata": {},
   "outputs": [
    {
     "data": {
      "text/plain": [
       "(8, 120, 120, 3)"
      ]
     },
     "execution_count": 31,
     "metadata": {},
     "output_type": "execute_result"
    }
   ],
   "source": [
    "X.shape"
   ]
  },
  {
   "cell_type": "code",
   "execution_count": 32,
   "id": "edc7314d-d4fa-4446-b9d8-0556e3ef7c73",
   "metadata": {},
   "outputs": [
    {
     "name": "stdout",
     "output_type": "stream",
     "text": [
      "1/1 [==============================] - 1s 786ms/step\n"
     ]
    }
   ],
   "source": [
    "classes, coords = facetracker.predict(X)"
   ]
  },
  {
   "cell_type": "code",
   "execution_count": 33,
   "id": "2b4bbcb3-2545-4923-8755-4653e3704c2b",
   "metadata": {},
   "outputs": [
    {
     "name": "stdout",
     "output_type": "stream",
     "text": [
      "[[0.4653262 ]\n",
      " [0.53540456]\n",
      " [0.4220729 ]\n",
      " [0.52386737]\n",
      " [0.5076999 ]\n",
      " [0.44647673]\n",
      " [0.55296946]\n",
      " [0.58865696]]\n",
      "[[0.67517376 0.43834272 0.80468506 0.5841991 ]\n",
      " [0.5031233  0.5970193  0.83429945 0.5097137 ]\n",
      " [0.55380404 0.48442245 0.76057434 0.6663557 ]\n",
      " [0.435859   0.56136966 0.7552092  0.5240215 ]\n",
      " [0.5757     0.43209824 0.75718856 0.51893103]\n",
      " [0.56418645 0.45992357 0.6750698  0.5968284 ]\n",
      " [0.4815256  0.48490417 0.8129003  0.5790739 ]\n",
      " [0.42518637 0.4898483  0.77069294 0.49879667]]\n"
     ]
    }
   ],
   "source": [
    "print(classes)\n",
    "print(coords)"
   ]
  },
  {
   "cell_type": "markdown",
   "id": "4ae7117e-a6df-4409-9f5c-dd64bc50c0d0",
   "metadata": {},
   "source": [
    "<h2>9. Define Losses and Optimizers</h2>"
   ]
  },
  {
   "cell_type": "markdown",
   "id": "924b6029-70fc-4ce0-b244-e3b4b954d9fe",
   "metadata": {},
   "source": [
    "<h4>9.A Define Optimizer and LR</h4>"
   ]
  },
  {
   "cell_type": "code",
   "execution_count": 34,
   "id": "e3afd4f3-40ab-4a79-9244-f79112bcd466",
   "metadata": {},
   "outputs": [],
   "source": [
    "# we will be gradually decreasing our learning rate dring training so as to reduce chances of overfitting & gradient overshoot\n",
    "batches_per_epoch = len(train)\n",
    "lr_decay = (1./0.75 -1)/batches_per_epoch"
   ]
  },
  {
   "cell_type": "code",
   "execution_count": 35,
   "id": "d8383fe5-c939-4cc6-9fe3-e0ea1b54ba05",
   "metadata": {},
   "outputs": [
    {
     "data": {
      "text/plain": [
       "0.0007407407407407406"
      ]
     },
     "execution_count": 35,
     "metadata": {},
     "output_type": "execute_result"
    }
   ],
   "source": [
    "lr_decay"
   ]
  },
  {
   "cell_type": "code",
   "execution_count": 36,
   "id": "369c2a80-83dc-43ef-bd96-f1a12c878f50",
   "metadata": {},
   "outputs": [],
   "source": [
    "# creating optimizer\n",
    "opt = tf.keras.optimizers.Adam(learning_rate=0.0001)"
   ]
  },
  {
   "cell_type": "markdown",
   "id": "1dcc9a5b-a367-488b-aaab-29dc524a171c",
   "metadata": {},
   "source": [
    "<h4>9.B Create Localization Loss and Classification Loss</h4>"
   ]
  },
  {
   "cell_type": "code",
   "execution_count": 37,
   "id": "22eafd7e-b732-472a-845b-dda30ec4e1ac",
   "metadata": {},
   "outputs": [],
   "source": [
    "# https://lilianweng.github.io/posts/2018-12-27-object-recognition-part-4/\n",
    "def localization_loss(y_true, yhat):            \n",
    "    delta_coord = tf.reduce_sum(tf.square(y_true[:,:2] - yhat[:,:2]))\n",
    "                  \n",
    "    h_true = y_true[:,3] - y_true[:,1] \n",
    "    w_true = y_true[:,2] - y_true[:,0] \n",
    "\n",
    "    h_pred = yhat[:,3] - yhat[:,1] \n",
    "    w_pred = yhat[:,2] - yhat[:,0] \n",
    "    \n",
    "    delta_size = tf.reduce_sum(tf.square(w_true - w_pred) + tf.square(h_true-h_pred))\n",
    "    \n",
    "    return delta_coord + delta_size"
   ]
  },
  {
   "cell_type": "code",
   "execution_count": 38,
   "id": "48aa9693-9d71-49f0-b531-6fc07dc65ace",
   "metadata": {},
   "outputs": [],
   "source": [
    "classloss = tf.keras.losses.BinaryCrossentropy()\n",
    "regressloss = localization_loss"
   ]
  },
  {
   "cell_type": "code",
   "execution_count": 39,
   "id": "4a56d850-5bac-46f6-bfa7-295a60f8a0a0",
   "metadata": {},
   "outputs": [
    {
     "data": {
      "text/plain": [
       "<tf.Tensor: shape=(), dtype=float32, numpy=8.159636>"
      ]
     },
     "execution_count": 39,
     "metadata": {},
     "output_type": "execute_result"
    }
   ],
   "source": [
    "regressloss(y[1], coords)"
   ]
  },
  {
   "cell_type": "code",
   "execution_count": 40,
   "id": "46cfd84d-f1fb-47cf-9093-0da7845b6421",
   "metadata": {},
   "outputs": [
    {
     "data": {
      "text/plain": [
       "<tf.Tensor: shape=(), dtype=float32, numpy=8.159636>"
      ]
     },
     "execution_count": 40,
     "metadata": {},
     "output_type": "execute_result"
    }
   ],
   "source": [
    "# 9.C Test out Loss Metrics\n",
    "localization_loss(y[1], coords)"
   ]
  },
  {
   "cell_type": "code",
   "execution_count": 41,
   "id": "811dc759-6316-411f-973c-85fec5e0512b",
   "metadata": {},
   "outputs": [
    {
     "data": {
      "text/plain": [
       "<tf.Tensor: shape=(), dtype=float32, numpy=0.62203157>"
      ]
     },
     "execution_count": 41,
     "metadata": {},
     "output_type": "execute_result"
    }
   ],
   "source": [
    "classloss(y[0], classes)"
   ]
  },
  {
   "cell_type": "markdown",
   "id": "2ffc8d3f-38c7-4a6c-a36f-443b6fba8628",
   "metadata": {},
   "source": [
    "<h2>10. Train Neural Network</h2>"
   ]
  },
  {
   "cell_type": "code",
   "execution_count": 42,
   "id": "0b8b0e4e-cdc6-4997-99ff-2f5576515715",
   "metadata": {},
   "outputs": [],
   "source": [
    "# 10.1 Create Custom Model Class\n",
    "class FaceTracker(Model): \n",
    "    def __init__(self, facetracker,  **kwargs): \n",
    "        super().__init__(**kwargs)\n",
    "        self.model = facetracker\n",
    "\n",
    "    def compile(self, opt, classloss, localizationloss, **kwargs):\n",
    "        super().compile(**kwargs)\n",
    "        self.closs = classloss\n",
    "        self.lloss = localizationloss\n",
    "        self.opt = opt\n",
    "\n",
    "    \n",
    "    # this gets called when model.fit method is called\n",
    "    def train_step(self, batch, **kwargs):\n",
    "        X, y = batch\n",
    "        print(\"y is \",y[0])\n",
    "        with tf.GradientTape() as tape:\n",
    "            classes, coords = self.model(X, training=True)\n",
    "            print(\"djndjnv\",classes, coords)\n",
    "            print(\"loss here is \", self.lloss(tf.cast(y[1], tf.float32), coords))\n",
    "            print(\"loss is \",self.closs(tf.cast(y[0], tf.float32), classes))\n",
    "            batch_classloss = self.closs(y[0], classes)\n",
    "            batch_localizationloss = self.lloss(tf.cast(y[1], tf.float32), coords)\n",
    "            total_loss = batch_localizationloss+0.5*batch_classloss  \n",
    "            grad = tape.gradient(total_loss, self.model.trainable_variables)\n",
    "        opt.apply_gradients(zip(grad, self.model.trainable_variables))\n",
    "        return {\"total_loss\":total_loss, \"class_loss\":batch_classloss, \"regress_loss\":batch_localizationloss}\n",
    "    \n",
    "    def test_step(self, batch, **kwargs): \n",
    "        X, y = batch  \n",
    "        classes, coords = self.model(X, training=False)\n",
    "        batch_classloss = self.closs(y[0], classes)\n",
    "        batch_localizationloss = self.lloss(tf.cast(y[1], tf.float32), coords)\n",
    "        total_loss = batch_localizationloss+0.5*batch_classloss\n",
    "        return {\"total_loss\":total_loss, \"class_loss\":batch_classloss, \"regress_loss\":batch_localizationloss}\n",
    "        \n",
    "    def call(self, X, **kwargs):\n",
    "        return self.model(X, **kwargs)\n"
   ]
  },
  {
   "cell_type": "code",
   "execution_count": 43,
   "id": "3c373208-1d8f-4968-b049-f77151731ce7",
   "metadata": {},
   "outputs": [],
   "source": [
    "model = FaceTracker(facetracker)"
   ]
  },
  {
   "cell_type": "code",
   "execution_count": 44,
   "id": "553fc5ef-378e-4130-880b-83f129f10a9f",
   "metadata": {},
   "outputs": [],
   "source": [
    "model.compile(opt, classloss, regressloss)"
   ]
  },
  {
   "cell_type": "code",
   "execution_count": 45,
   "id": "b4c8dd89-eac3-4f91-85de-bc67b65b3c59",
   "metadata": {},
   "outputs": [],
   "source": [
    "# training\n",
    "\n",
    "logdir='logs'\n"
   ]
  },
  {
   "cell_type": "code",
   "execution_count": 46,
   "id": "ae845813-e2f0-4ad3-802f-36670abb93ec",
   "metadata": {},
   "outputs": [],
   "source": [
    "tensorboard_callback = tf.keras.callbacks.TensorBoard(log_dir=logdir)"
   ]
  },
  {
   "cell_type": "code",
   "execution_count": 47,
   "id": "1aac9630-c593-41bf-a2ff-fc1139e88d00",
   "metadata": {},
   "outputs": [
    {
     "name": "stdout",
     "output_type": "stream",
     "text": [
      "Epoch 1/10\n",
      "y is  Tensor(\"IteratorGetNext:1\", dtype=uint8)\n",
      "djndjnv Tensor(\"model/dense_1/Sigmoid:0\", shape=(None, 1), dtype=float32) Tensor(\"model/dense_3/Sigmoid:0\", shape=(None, 4), dtype=float32)\n",
      "loss here is  Tensor(\"add_1:0\", shape=(), dtype=float32)\n",
      "loss is  Tensor(\"binary_crossentropy/weighted_loss/value:0\", shape=(), dtype=float32)\n",
      "y is  Tensor(\"IteratorGetNext:1\", dtype=uint8)\n",
      "djndjnv Tensor(\"model/dense_1/Sigmoid:0\", shape=(None, 1), dtype=float32) Tensor(\"model/dense_3/Sigmoid:0\", shape=(None, 4), dtype=float32)\n",
      "loss here is  Tensor(\"add_1:0\", shape=(), dtype=float32)\n",
      "loss is  Tensor(\"binary_crossentropy/weighted_loss/value:0\", shape=(), dtype=float32)\n",
      "450/450 [==============================] - 316s 682ms/step - total_loss: 0.8886 - class_loss: 0.1731 - regress_loss: 0.8020 - val_total_loss: 0.1091 - val_class_loss: 0.0026 - val_regress_loss: 0.1078\n",
      "Epoch 2/10\n",
      "450/450 [==============================] - 308s 670ms/step - total_loss: 0.3996 - class_loss: 0.0900 - regress_loss: 0.3547 - val_total_loss: 0.0259 - val_class_loss: 0.0077 - val_regress_loss: 0.0220\n",
      "Epoch 3/10\n",
      "450/450 [==============================] - 278s 604ms/step - total_loss: 0.3143 - class_loss: 0.0778 - regress_loss: 0.2754 - val_total_loss: 0.7767 - val_class_loss: 0.6828 - val_regress_loss: 0.4353\n",
      "Epoch 4/10\n",
      "450/450 [==============================] - 266s 580ms/step - total_loss: 0.3396 - class_loss: 0.0766 - regress_loss: 0.3013 - val_total_loss: 1.0859 - val_class_loss: 1.1288 - val_regress_loss: 0.5216\n",
      "Epoch 5/10\n",
      "450/450 [==============================] - 268s 584ms/step - total_loss: 0.2583 - class_loss: 0.0609 - regress_loss: 0.2279 - val_total_loss: 0.7823 - val_class_loss: 0.6262 - val_regress_loss: 0.4692\n",
      "Epoch 6/10\n",
      "450/450 [==============================] - 269s 587ms/step - total_loss: 0.1416 - class_loss: 0.0332 - regress_loss: 0.1250 - val_total_loss: 3.6407 - val_class_loss: 2.9497 - val_regress_loss: 2.1659\n",
      "Epoch 7/10\n",
      "450/450 [==============================] - 271s 590ms/step - total_loss: 0.1767 - class_loss: 0.0474 - regress_loss: 0.1530 - val_total_loss: 0.0219 - val_class_loss: 0.0078 - val_regress_loss: 0.0180\n",
      "Epoch 8/10\n",
      "450/450 [==============================] - 270s 589ms/step - total_loss: 0.1864 - class_loss: 0.0423 - regress_loss: 0.1653 - val_total_loss: 0.4334 - val_class_loss: 0.3673 - val_regress_loss: 0.2497\n",
      "Epoch 9/10\n",
      "450/450 [==============================] - 268s 585ms/step - total_loss: 0.2442 - class_loss: 0.0590 - regress_loss: 0.2147 - val_total_loss: 0.0580 - val_class_loss: 0.0155 - val_regress_loss: 0.0503\n",
      "Epoch 10/10\n",
      "450/450 [==============================] - 266s 580ms/step - total_loss: 0.2144 - class_loss: 0.0516 - regress_loss: 0.1886 - val_total_loss: 0.0517 - val_class_loss: 7.1005e-04 - val_regress_loss: 0.0514\n"
     ]
    }
   ],
   "source": [
    "\n",
    "hist = model.fit(train, epochs=10, validation_data=val, callbacks=[tensorboard_callback])"
   ]
  },
  {
   "cell_type": "code",
   "execution_count": 48,
   "id": "be7b2389-c40a-4caa-87f2-27626e3f5cfd",
   "metadata": {},
   "outputs": [
    {
     "data": {
      "text/plain": [
       "array([[0.4653262 ],\n",
       "       [0.53540456],\n",
       "       [0.4220729 ],\n",
       "       [0.52386737],\n",
       "       [0.5076999 ],\n",
       "       [0.44647673],\n",
       "       [0.55296946],\n",
       "       [0.58865696]], dtype=float32)"
      ]
     },
     "execution_count": 48,
     "metadata": {},
     "output_type": "execute_result"
    }
   ],
   "source": [
    "classes"
   ]
  },
  {
   "cell_type": "markdown",
   "id": "3015741c-b087-49b9-a91c-f4da9f11a12d",
   "metadata": {},
   "source": [
    "<h4>Plot Performance</h4>"
   ]
  },
  {
   "cell_type": "code",
   "execution_count": 50,
   "id": "ea936a4e-30e3-4ada-8807-7cdd4c0adb78",
   "metadata": {},
   "outputs": [
    {
     "data": {
      "image/png": "[encoded data removed]",
      "text/plain": [
       "<Figure size 2000x500 with 3 Axes>"
      ]
     },
     "metadata": {},
     "output_type": "display_data"
    }
   ],
   "source": [
    "fig, ax = plt.subplots(ncols=3, figsize=(20,5))\n",
    "\n",
    "ax[0].plot(hist.history['total_loss'], color='teal', label='loss')\n",
    "ax[0].plot(hist.history['val_total_loss'], color='orange', label='val loss')\n",
    "ax[0].title.set_text('Loss')\n",
    "ax[0].legend()\n",
    "\n",
    "ax[1].plot(hist.history['class_loss'], color='teal', label='class loss')\n",
    "ax[1].plot(hist.history['val_class_loss'], color='orange', label='val class loss')\n",
    "ax[1].title.set_text('Classification Loss')\n",
    "ax[1].legend()\n",
    "\n",
    "ax[2].plot(hist.history['regress_loss'], color='teal', label='regress loss')\n",
    "ax[2].plot(hist.history['val_regress_loss'], color='orange', label='val regress loss')\n",
    "ax[2].title.set_text('Regression Loss')\n",
    "ax[2].legend()\n",
    "\n",
    "plt.show()"
   ]
  },
  {
   "cell_type": "markdown",
   "id": "9cc6838a-5cb2-49e4-a62b-18f104a09f47",
   "metadata": {},
   "source": [
    "<h2>Make Predictions</h2>"
   ]
  },
  {
   "cell_type": "markdown",
   "id": "11376160-1256-40cd-93b0-449e860a9312",
   "metadata": {},
   "source": [
    "<h4>11.1 Make Predictions on Test Set</h4>"
   ]
  },
  {
   "cell_type": "code",
   "execution_count": 51,
   "id": "4f59847a-de7d-4766-9581-517f910341bf",
   "metadata": {},
   "outputs": [],
   "source": [
    "test_data = test.as_numpy_iterator()"
   ]
  },
  {
   "cell_type": "code",
   "execution_count": 52,
   "id": "69a7e1e9-0f17-4857-87fb-6b947cf11628",
   "metadata": {},
   "outputs": [],
   "source": [
    "test_sample = test_data.next()"
   ]
  },
  {
   "cell_type": "code",
   "execution_count": 53,
   "id": "f700533f-6380-441d-8034-c104613209da",
   "metadata": {},
   "outputs": [
    {
     "name": "stdout",
     "output_type": "stream",
     "text": [
      "1/1 [==============================] - 0s 205ms/step\n"
     ]
    }
   ],
   "source": [
    "yhat = facetracker.predict(test_sample[0])"
   ]
  },
  {
   "cell_type": "code",
   "execution_count": 55,
   "id": "8eca7c43-95fb-4c7d-94ff-75ed7582bf16",
   "metadata": {},
   "outputs": [],
   "source": [
    "# fig, ax = plt.subplots(ncols=4, figsize=(20,20))\n",
    "# for idx in range(4): \n",
    "#     sample_image = test_sample[0][idx]\n",
    "#     sample_coords = yhat[1][idx]\n",
    "    \n",
    "#     if yhat[0][idx] > 0.9:\n",
    "#         cv2.rectangle(sample_image, \n",
    "#                       tuple(np.multiply(sample_coords[:2], [120,120]).astype(int)),\n",
    "#                       tuple(np.multiply(sample_coords[2:], [120,120]).astype(int)), \n",
    "#                             (255,0,0), 2)\n",
    "    \n",
    "#     ax[idx].imshow(sample_image)"
   ]
  },
  {
   "cell_type": "markdown",
   "id": "dd11472c-4b14-4197-b75d-d65611942803",
   "metadata": {},
   "source": [
    "<h4>11.2 Save the Model</h4>"
   ]
  },
  {
   "cell_type": "code",
   "execution_count": 56,
   "id": "50f728c2-1f61-41bf-8c2c-840999a9b368",
   "metadata": {},
   "outputs": [],
   "source": [
    "from tensorflow.keras.models import load_model"
   ]
  },
  {
   "cell_type": "code",
   "execution_count": 57,
   "id": "b605851a-ad55-42ed-8cb0-c32705c5e1f1",
   "metadata": {},
   "outputs": [
    {
     "name": "stdout",
     "output_type": "stream",
     "text": [
      "WARNING:tensorflow:Compiled the loaded model, but the compiled metrics have yet to be built. `model.compile_metrics` will be empty until you train or evaluate the model.\n"
     ]
    }
   ],
   "source": [
    "facetracker.save('facetracker.h5')"
   ]
  },
  {
   "cell_type": "code",
   "execution_count": null,
   "id": "85b649e9-06a3-4891-ac92-78b9cc202933",
   "metadata": {},
   "outputs": [],
   "source": [
    "facetracker = load_model('facetracker.h5')"
   ]
  },
  {
   "cell_type": "code",
   "execution_count": null,
   "id": "1f3adefa-ae96-4e64-b7c3-1e7d6617f322",
   "metadata": {},
   "outputs": [],
   "source": [
    "cap = cv2.VideoCapture(0)\n",
    "while cap.isOpened():\n",
    "    _ , frame = cap.read()\n",
    "    frame = frame[50:500, 50:500,:]\n",
    "    \n",
    "    rgb = cv2.cvtColor(frame, cv2.COLOR_BGR2RGB)\n",
    "    resized = tf.image.resize(rgb, (120,120))\n",
    "    \n",
    "    yhat = facetracker.predict(np.expand_dims(resized/255,0))\n",
    "    sample_coords = yhat[1][0]\n",
    "    \n",
    "    if yhat[0] > 0.5: \n",
    "        # Controls the main rectangle\n",
    "        cv2.rectangle(frame, \n",
    "                      tuple(np.multiply(sample_coords[:2], [450,450]).astype(int)),\n",
    "                      tuple(np.multiply(sample_coords[2:], [450,450]).astype(int)), \n",
    "                            (255,0,0), 2)\n",
    "        # Controls the label rectangle\n",
    "        cv2.rectangle(frame, \n",
    "                      tuple(np.add(np.multiply(sample_coords[:2], [450,450]).astype(int), \n",
    "                                    [0,-30])),\n",
    "                      tuple(np.add(np.multiply(sample_coords[:2], [450,450]).astype(int),\n",
    "                                    [80,0])), \n",
    "                            (255,0,0), -1)\n",
    "        \n",
    "        # Controls the text rendered\n",
    "        cv2.putText(frame, 'face', tuple(np.add(np.multiply(sample_coords[:2], [450,450]).astype(int),\n",
    "                                               [0,-5])),\n",
    "                    cv2.FONT_HERSHEY_SIMPLEX, 1, (255,255,255), 2, cv2.LINE_AA)\n",
    "    \n",
    "    cv2.imshow('EyeTrack', frame)\n",
    "    \n",
    "    if cv2.waitKey(1) & 0xFF == ord('q'):\n",
    "        break\n",
    "cap.release()\n",
    "cv2.destroyAllWindows()"
   ]
  }
 ],
 "metadata": {
  "kernelspec": {
   "display_name": "Python 3 (ipykernel)",
   "language": "python",
   "name": "python3"
  },
  "language_info": {
   "codemirror_mode": {
    "name": "ipython",
    "version": 3
   },
   "file_extension": ".py",
   "mimetype": "text/x-python",
   "name": "python",
   "nbconvert_exporter": "python",
   "pygments_lexer": "ipython3",
   "version": "3.10.13"
  }
 },
 "nbformat": 4,
 "nbformat_minor": 5
}
